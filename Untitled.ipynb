{
 "cells": [
  {
   "cell_type": "code",
   "execution_count": 2,
   "id": "046468a2",
   "metadata": {},
   "outputs": [],
   "source": [
    "\n",
    "from googletrans import Translator\n",
    "translator = Translator()"
   ]
  },
  {
   "cell_type": "code",
   "execution_count": null,
   "id": "3d7f9f34",
   "metadata": {},
   "outputs": [
    {
     "name": "stdout",
     "output_type": "stream",
     "text": [
      "Ram is my friend because of his good nature and I will never forget him. He helped me many times.\n"
     ]
    }
   ],
   "source": [
    "text=\"Ram mera dost hei beacuse of their good nature\"\n",
    "t=translator.translate(text)\n",
    "print(t.text)"
   ]
  },
  {
   "cell_type": "code",
   "execution_count": null,
   "id": "3333eab7",
   "metadata": {},
   "outputs": [],
   "source": [
    "from tkinter import *\n",
    "from tkinter import ttk\n",
    "\n",
    "\n",
    "class CodeMixingApp:\n",
    "    def __init__(self, master):\n",
    "        self.master = master\n",
    "        self.master.title(\"Code Mixing App\")\n",
    "\n",
    "        # Create a label for the input text\n",
    "        self.input_label = ttk.Label(self.master, text=\"Enter text:\")\n",
    "        self.input_label.grid(row=0, column=0, sticky=W, padx=5, pady=5)\n",
    "\n",
    "        # Create an entry field for the input text\n",
    "        self.input_entry = ttk.Entry(self.master, width=40)\n",
    "        self.input_entry.grid(row=0, column=1, padx=5, pady=5)\n",
    "\n",
    "        # Create a label for the output text\n",
    "        self.output_label = ttk.Label(self.master, text=\"Translated text:\")\n",
    "        self.output_label.grid(row=1, column=0, sticky=W, padx=5, pady=5)\n",
    "\n",
    "        # Create a text field for the output text\n",
    "        self.output_text = Text(self.master, height=10, width=40)\n",
    "        self.output_text.grid(row=1, column=1, padx=5, pady=5)\n",
    "\n",
    "        # Create a button to translate the text\n",
    "        self.translate_button = ttk.Button(self.master, text=\"Translate\", command=self.translate_text)\n",
    "        self.translate_button.grid(row=2, column=1, padx=5, pady=5)\n",
    "\n",
    "    def translate_text(self):\n",
    "        input_text = self.input_entry.get()\n",
    "        translator = Translator()\n",
    "        translated_text = translator.translate(input_text).text\n",
    "        self.output_text.delete(1.0, END)\n",
    "        self.output_text.insert(INSERT, translated_text)\n",
    "\n",
    "# Create the main window\n",
    "root = Tk()\n",
    "app = CodeMixingApp(root)\n",
    "root.mainloop()\n"
   ]
  },
  {
   "cell_type": "code",
   "execution_count": null,
   "id": "1c0c5860",
   "metadata": {},
   "outputs": [],
   "source": []
  }
 ],
 "metadata": {
  "kernelspec": {
   "display_name": "Python 3 (ipykernel)",
   "language": "python",
   "name": "python3"
  },
  "language_info": {
   "codemirror_mode": {
    "name": "ipython",
    "version": 3
   },
   "file_extension": ".py",
   "mimetype": "text/x-python",
   "name": "python",
   "nbconvert_exporter": "python",
   "pygments_lexer": "ipython3",
   "version": "3.9.13"
  }
 },
 "nbformat": 4,
 "nbformat_minor": 5
}
